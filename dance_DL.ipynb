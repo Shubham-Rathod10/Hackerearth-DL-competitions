{
  "nbformat": 4,
  "nbformat_minor": 0,
  "metadata": {
    "colab": {
      "name": "dance_DL.ipynb",
      "provenance": [],
      "collapsed_sections": [],
      "toc_visible": true
    },
    "kernelspec": {
      "name": "python3",
      "display_name": "Python 3"
    },
    "accelerator": "GPU"
  },
  "cells": [
    {
      "cell_type": "markdown",
      "metadata": {
        "id": "-NOoKrJXLTyv",
        "colab_type": "text"
      },
      "source": [
        "#Link to download the Dataset \n",
        "https://www.kaggle.com/raoofnaushad/indian-dance-forms-1000/download"
      ]
    },
    {
      "cell_type": "markdown",
      "metadata": {
        "id": "yUIQzOJXDXQb",
        "colab_type": "text"
      },
      "source": [
        "#Importing essential Libraries."
      ]
    },
    {
      "cell_type": "code",
      "metadata": {
        "id": "_AearOVbBhhY",
        "colab_type": "code",
        "colab": {}
      },
      "source": [
        "import os\n",
        "import zipfile\n",
        "import numpy as np\n",
        "import tensorflow as tf\n",
        "import matplotlib.pyplot as plt\n",
        "from tqdm import tqdm_notebook\n",
        "from tensorflow.keras.preprocessing.image import ImageDataGenerator,load_img\n",
        "\n",
        "from tensorflow.keras.layers import Dense,Layer,Lambda,Add,Multiply,Input,Conv2D,MaxPool2D,Flatten,Conv2DTranspose,Reshape,Dropout,GlobalAveragePooling2D\n",
        "from tensorflow.keras.models import Sequential,Model\n",
        "import pandas as pd\n",
        "from tensorflow.keras.wrappers.scikit_learn import KerasClassifier\n",
        "from tensorflow.keras.applications.resnet50 import ResNet50,preprocess_input\n",
        "\n",
        "%matplotlib inline"
      ],
      "execution_count": 1,
      "outputs": []
    },
    {
      "cell_type": "markdown",
      "metadata": {
        "id": "IAmz-kmSDdgU",
        "colab_type": "text"
      },
      "source": [
        "#Unzipping dataset.(comment this cell once unzipped) "
      ]
    },
    {
      "cell_type": "code",
      "metadata": {
        "id": "ZuyyqChwDxzh",
        "colab_type": "code",
        "colab": {}
      },
      "source": [
        "dataset_path = \"/content/drive/My Drive/Colab Notebooks/danceDS.zip\"\n",
        "zip_object = zipfile.ZipFile(file=dataset_path, mode=\"r\")\n",
        "zip_object.extractall(\"./\")\n",
        "zip_object.close()"
      ],
      "execution_count": 2,
      "outputs": []
    },
    {
      "cell_type": "markdown",
      "metadata": {
        "id": "4XT_0BRZDjQq",
        "colab_type": "text"
      },
      "source": [
        "#defining paths to directories."
      ]
    },
    {
      "cell_type": "code",
      "metadata": {
        "id": "X7lyQP21ErwG",
        "colab_type": "code",
        "colab": {}
      },
      "source": [
        "dataset_path_new = \"/content/dataset\"\n",
        "train_dir = os.path.join(dataset_path_new, \"train/\")\n",
        "test_dir = os.path.join(dataset_path_new, \"test/\")"
      ],
      "execution_count": 3,
      "outputs": []
    },
    {
      "cell_type": "markdown",
      "metadata": {
        "id": "twUHEPiDDskI",
        "colab_type": "text"
      },
      "source": [
        "# assigning respective labels."
      ]
    },
    {
      "cell_type": "code",
      "metadata": {
        "id": "oxng-w0EMXDe",
        "colab_type": "code",
        "colab": {}
      },
      "source": [
        "train_label = pd.read_csv('/content/dataset/train.csv')\n",
        "test_label = pd.read_csv('/content/dataset/test.csv')"
      ],
      "execution_count": 4,
      "outputs": []
    },
    {
      "cell_type": "markdown",
      "metadata": {
        "id": "wR02QFWLDz50",
        "colab_type": "text"
      },
      "source": [
        "#Mapping the Image with its respective label."
      ]
    },
    {
      "cell_type": "code",
      "metadata": {
        "id": "FCWM8AR1jSDZ",
        "colab_type": "code",
        "colab": {}
      },
      "source": [
        "train_dict = {str(x):y for x,y in zip(train_label['Image'],train_label['target'])}"
      ],
      "execution_count": 5,
      "outputs": []
    },
    {
      "cell_type": "markdown",
      "metadata": {
        "id": "4-7AXWpbECVR",
        "colab_type": "text"
      },
      "source": [
        "#Loading the Train images in X_train Tensor and creating train labels list y_train."
      ]
    },
    {
      "cell_type": "code",
      "metadata": {
        "id": "5K8Mc-03SBK0",
        "colab_type": "code",
        "colab": {}
      },
      "source": [
        "names = os.listdir(train_dir)\n",
        "X_train = np.zeros((1,224,224,3))\n",
        "y_train = []\n",
        "for i,x in enumerate(names):\n",
        "    #print(i)\n",
        "    im = load_img(train_dir + x,target_size=(224,224))\n",
        "    arr = np.asarray(im)\n",
        "    arr = arr.reshape(1,224,224,3)\n",
        "    X_train = np.concatenate((X_train,arr),axis=0)\n",
        "    y_train.append(train_dict[x])\n",
        "    \n",
        "X_train = preprocess_input(X_train[1:])"
      ],
      "execution_count": null,
      "outputs": []
    },
    {
      "cell_type": "markdown",
      "metadata": {
        "id": "ECn140sxEYMX",
        "colab_type": "text"
      },
      "source": [
        "#Loading the Test Images in X_test Tensor."
      ]
    },
    {
      "cell_type": "code",
      "metadata": {
        "id": "SNGTPn87GyuB",
        "colab_type": "code",
        "colab": {}
      },
      "source": [
        "X_test = np.zeros((1,224,224,3))\n",
        "for i,x in enumerate(test_label['Image']):\n",
        "    #print(i)\n",
        "    im = load_img(test_dir + x,target_size=(224,224))\n",
        "    arr = np.asarray(im)\n",
        "    arr = arr.reshape(1,224,224,3)\n",
        "    X_test = np.concatenate((X_test,arr),axis=0)\n",
        "X_test = preprocess_input(X_test[1:])"
      ],
      "execution_count": 8,
      "outputs": []
    },
    {
      "cell_type": "markdown",
      "metadata": {
        "id": "6JtC-9h4Ewz1",
        "colab_type": "text"
      },
      "source": [
        "#Label encoding the dance form names\n",
        "```\n",
        "e.g\n",
        "Manipuri - 0,\n",
        "Bharatanatyam - 1,\n",
        "Odissi - 2,\n",
        "Kathakali - 3,\n",
        "Kathak - 4,\n",
        "Sattriya - 5,\n",
        "Kuchipudi - 6,\n",
        "Mohiniyattam - 7\n",
        "```"
      ]
    },
    {
      "cell_type": "code",
      "metadata": {
        "id": "3m9apsmNrLFR",
        "colab_type": "code",
        "colab": {}
      },
      "source": [
        "from sklearn.preprocessing import LabelEncoder\n",
        "LE = LabelEncoder()\n",
        "y_tr = LE.fit_transform(y_train)"
      ],
      "execution_count": 10,
      "outputs": []
    },
    {
      "cell_type": "markdown",
      "metadata": {
        "id": "kp7cTvApkiaS",
        "colab_type": "text"
      },
      "source": [
        "#Fine Tuning with 5 fold cross-validation"
      ]
    },
    {
      "cell_type": "code",
      "metadata": {
        "id": "p8vTY7KDBn8F",
        "colab_type": "code",
        "colab": {}
      },
      "source": [
        "def create_model():\n",
        "    IMG_SHAPE = (224, 224, 3)\n",
        "    fine_tune_at = 160\n",
        "    base_model = ResNet50(include_top=False,weights='imagenet',input_shape=IMG_SHAPE)\n",
        "    base_model.trainable = True\n",
        "    for layer in base_model.layers[:fine_tune_at]:\n",
        "        layer.trainable = False\n",
        "    glob_layer = tf.keras.layers.GlobalAveragePooling2D()(base_model.output)\n",
        "    d1 = tf.keras.layers.Dense(units=256,activation='relu')(glob_layer)\n",
        "    t1 = tf.keras.layers.Dropout(0.3)(d1)\n",
        "    d2 = tf.keras.layers.Dense(units=128,activation='relu')(t1)\n",
        "    t2 = tf.keras.layers.Dropout(0.3)(d2)\n",
        "    prediction_layer = tf.keras.layers.Dense(units=8, activation='softmax')(t2)\n",
        "    model = tf.keras.models.Model(inputs=base_model.input, outputs=prediction_layer)\n",
        "    model.compile(optimizer=tf.keras.optimizers.Adam(lr=0.0001), loss=\"sparse_categorical_crossentropy\", metrics=[\"accuracy\"])\n",
        "    return model"
      ],
      "execution_count": 21,
      "outputs": []
    },
    {
      "cell_type": "markdown",
      "metadata": {
        "id": "fs0-i81GFV2J",
        "colab_type": "text"
      },
      "source": [
        "###Building the Model\n"
      ]
    },
    {
      "cell_type": "code",
      "metadata": {
        "id": "CVmCthzBpZwG",
        "colab_type": "code",
        "colab": {}
      },
      "source": [
        "model = KerasClassifier(build_fn=create_model,epochs=20,batch_size=64,validation_split=0.2)\n",
        "from sklearn.model_selection import cross_val_score\n",
        "kfold = cross_val_score(model,X_train,y_tr,cv=5,verbose=1)\n",
        "print(f'scores list is  = {kfold}')\n",
        "print(f'mean of the scores is = {kfold.mean()}')\n",
        "print(f'std dev of score is = {kfold.std()}')"
      ],
      "execution_count": null,
      "outputs": []
    },
    {
      "cell_type": "code",
      "metadata": {
        "id": "z1tIWhj8miu1",
        "colab_type": "code",
        "colab": {}
      },
      "source": [
        "model = create_model()\n",
        "model.fit(X_train,y_tr,batch_size=128,epochs=50)"
      ],
      "execution_count": null,
      "outputs": []
    },
    {
      "cell_type": "markdown",
      "metadata": {
        "id": "m6nEIZRNGbND",
        "colab_type": "text"
      },
      "source": [
        "###Model Summary"
      ]
    },
    {
      "cell_type": "code",
      "metadata": {
        "id": "02KCIjPhPy9n",
        "colab_type": "code",
        "colab": {}
      },
      "source": [
        "model.summary()"
      ],
      "execution_count": null,
      "outputs": []
    },
    {
      "cell_type": "markdown",
      "metadata": {
        "id": "_B-z5SG1pxtK",
        "colab_type": "text"
      },
      "source": [
        "#Model prediction and to_csv writing cell\n"
      ]
    },
    {
      "cell_type": "code",
      "metadata": {
        "id": "oWF2ALvbKVYZ",
        "colab_type": "code",
        "colab": {}
      },
      "source": [
        "y_pred = model.predict(X_test)\n",
        "y_pred = np.argmax(y_pred,axis=1)\n",
        "y_test_lab = LE.inverse_transform(y_pred)\n",
        "\n",
        "frame = [[x,y] for x,y in zip(test_label['Image'],y_test_lab)]\n",
        "df = pd.DataFrame(frame,columns=[\"Image\",\"target\"])\n",
        "letgo = df.to_csv('./pred12.csv',index=False)"
      ],
      "execution_count": null,
      "outputs": []
    }
  ]
}